{
 "cells": [
  {
   "cell_type": "markdown",
   "metadata": {},
   "source": [
    "# Tesla & GameStop — Stock vs Revenue Dashboard (Final Project)\n",
    "\n",
    "*Generated on: 2025-08-24 10:05:11*\n",
    "\n",
    "This notebook answers Questions 1–7:\n",
    "\n",
    "1. Extract Tesla stock data using **yfinance**\n",
    "2. Extract Tesla revenue data using **web scraping**\n",
    "3. Extract GameStop stock data using **yfinance**\n",
    "4. Extract GameStop revenue data using **web scraping**\n",
    "5. Build a dashboard for **Tesla** (Price vs Revenue)\n",
    "6. Build a dashboard for **GameStop** (Price vs Revenue)\n",
    "7. Share the assignment notebook\n",
    "\n",
    "**Note:** Please run this notebook with an active internet connection so data fetching and scraping can succeed.\n"
   ]
  },
  {
   "cell_type": "markdown",
   "metadata": {},
   "source": [
    "## Setup — Imports & Helpers"
   ]
  },
  {
   "cell_type": "code",
   "execution_count": 3,
   "metadata": {},
   "outputs": [
    {
     "ename": "ModuleNotFoundError",
     "evalue": "No module named 'pandas'",
     "output_type": "error",
     "traceback": [
      "\u001b[31m---------------------------------------------------------------------------\u001b[39m",
      "\u001b[31mModuleNotFoundError\u001b[39m                       Traceback (most recent call last)",
      "\u001b[36mCell\u001b[39m\u001b[36m \u001b[39m\u001b[32mIn[3]\u001b[39m\u001b[32m, line 2\u001b[39m\n\u001b[32m      1\u001b[39m \u001b[38;5;28;01mimport\u001b[39;00m\u001b[38;5;250m \u001b[39m\u001b[34;01msys\u001b[39;00m,\u001b[38;5;250m \u001b[39m\u001b[34;01mwarnings\u001b[39;00m,\u001b[38;5;250m \u001b[39m\u001b[34;01mre\u001b[39;00m,\u001b[38;5;250m \u001b[39m\u001b[34;01mio\u001b[39;00m\n\u001b[32m----> \u001b[39m\u001b[32m2\u001b[39m \u001b[38;5;28;01mimport\u001b[39;00m\u001b[38;5;250m \u001b[39m\u001b[34;01mpandas\u001b[39;00m\u001b[38;5;250m \u001b[39m\u001b[38;5;28;01mas\u001b[39;00m\u001b[38;5;250m \u001b[39m\u001b[34;01mpd\u001b[39;00m\n\u001b[32m      3\u001b[39m \u001b[38;5;28;01mimport\u001b[39;00m\u001b[38;5;250m \u001b[39m\u001b[34;01mnumpy\u001b[39;00m\u001b[38;5;250m \u001b[39m\u001b[38;5;28;01mas\u001b[39;00m\u001b[38;5;250m \u001b[39m\u001b[34;01mnp\u001b[39;00m\n\u001b[32m      4\u001b[39m \u001b[38;5;28;01mimport\u001b[39;00m\u001b[38;5;250m \u001b[39m\u001b[34;01mmatplotlib\u001b[39;00m\u001b[34;01m.\u001b[39;00m\u001b[34;01mpyplot\u001b[39;00m\u001b[38;5;250m \u001b[39m\u001b[38;5;28;01mas\u001b[39;00m\u001b[38;5;250m \u001b[39m\u001b[34;01mplt\u001b[39;00m\n",
      "\u001b[31mModuleNotFoundError\u001b[39m: No module named 'pandas'"
     ]
    }
   ],
   "source": [
    "import sys, warnings, re, io\n",
    "import pandas as pd\n",
    "import numpy as np\n",
    "import matplotlib.pyplot as plt\n",
    "\n",
    "# Display options\n",
    "pd.set_option('display.max_rows', 10)\n",
    "pd.set_option('display.max_columns', 20)\n",
    "pd.set_option('display.width', 120)\n",
    "\n",
    "# Helper: safe import of yfinance\n",
    "def safe_import_yfinance():\n",
    "    try:\n",
    "        import yfinance as yf\n",
    "        return yf\n",
    "    except Exception as e:\n",
    "        print(\"yfinance is not available. Please install it with: pip install yfinance\")\n",
    "        raise\n",
    "\n",
    "# Helper: check internet connectivity (simple DNS test)\n",
    "def has_internet():\n",
    "    try:\n",
    "        import socket\n",
    "        socket.gethostbyname(\"www.google.com\")\n",
    "        return True\n",
    "    except Exception:\n",
    "        return False\n",
    "\n",
    "warnings.filterwarnings('ignore')\n",
    "print(\"Environment ready.\")\n"
   ]
  },
  {
   "cell_type": "markdown",
   "metadata": {},
   "source": [
    "## Question 1 — Extracting Tesla Stock Data Using yfinance (2 pts)"
   ]
  },
  {
   "cell_type": "code",
   "execution_count": 4,
   "metadata": {},
   "outputs": [
    {
     "ename": "NameError",
     "evalue": "name 'safe_import_yfinance' is not defined",
     "output_type": "error",
     "traceback": [
      "\u001b[31m---------------------------------------------------------------------------\u001b[39m",
      "\u001b[31mNameError\u001b[39m                                 Traceback (most recent call last)",
      "\u001b[36mCell\u001b[39m\u001b[36m \u001b[39m\u001b[32mIn[4]\u001b[39m\u001b[32m, line 1\u001b[39m\n\u001b[32m----> \u001b[39m\u001b[32m1\u001b[39m yf = \u001b[43msafe_import_yfinance\u001b[49m()\n\u001b[32m      2\u001b[39m \u001b[38;5;28;01mif\u001b[39;00m \u001b[38;5;129;01mnot\u001b[39;00m has_internet():\n\u001b[32m      3\u001b[39m     \u001b[38;5;28;01mraise\u001b[39;00m \u001b[38;5;167;01mRuntimeError\u001b[39;00m(\u001b[33m\"\u001b[39m\u001b[33mNo internet connection detected. Please connect to the internet and re-run this cell.\u001b[39m\u001b[33m\"\u001b[39m)\n",
      "\u001b[31mNameError\u001b[39m: name 'safe_import_yfinance' is not defined"
     ]
    }
   ],
   "source": [
    "yf = safe_import_yfinance()\n",
    "if not has_internet():\n",
    "    raise RuntimeError(\"No internet connection detected. Please connect to the internet and re-run this cell.\")\n",
    "\n",
    "tsla = yf.Ticker(\"TSLA\")\n",
    "tsla_hist = tsla.history(period=\"max\")\n",
    "tsla_hist.reset_index(inplace=True)\n",
    "# Keep only relevant columns\n",
    "tsla_hist = tsla_hist[[\"Date\", \"Open\", \"High\", \"Low\", \"Close\", \"Volume\", \"Dividends\", \"Stock Splits\"]]\n",
    "tsla_hist.rename(columns={\"Close\":\"Adj Close\"}, inplace=True)  # In many courses 'Close' is used as adjusted close; adjust if needed\n",
    "\n",
    "# Save and preview\n",
    "tsla_hist.to_csv(\"TSLA_stock.csv\", index=False)\n",
    "print(\"Saved TSLA_stock.csv\")\n",
    "tsla_hist.head(10)\n"
   ]
  },
  {
   "cell_type": "markdown",
   "metadata": {},
   "source": [
    "## Question 2 — Extracting Tesla Revenue Data Using Web Scraping (1 pt)"
   ]
  },
  {
   "cell_type": "code",
   "execution_count": 5,
   "metadata": {},
   "outputs": [
    {
     "ename": "ModuleNotFoundError",
     "evalue": "No module named 'requests'",
     "output_type": "error",
     "traceback": [
      "\u001b[31m---------------------------------------------------------------------------\u001b[39m",
      "\u001b[31mModuleNotFoundError\u001b[39m                       Traceback (most recent call last)",
      "\u001b[36mCell\u001b[39m\u001b[36m \u001b[39m\u001b[32mIn[5]\u001b[39m\u001b[32m, line 1\u001b[39m\n\u001b[32m----> \u001b[39m\u001b[32m1\u001b[39m \u001b[38;5;28;01mimport\u001b[39;00m\u001b[38;5;250m \u001b[39m\u001b[34;01mrequests\u001b[39;00m\n\u001b[32m      2\u001b[39m \u001b[38;5;28;01mfrom\u001b[39;00m\u001b[38;5;250m \u001b[39m\u001b[34;01mbs4\u001b[39;00m\u001b[38;5;250m \u001b[39m\u001b[38;5;28;01mimport\u001b[39;00m BeautifulSoup\n\u001b[32m      4\u001b[39m \u001b[38;5;28;01mif\u001b[39;00m \u001b[38;5;129;01mnot\u001b[39;00m has_internet():\n",
      "\u001b[31mModuleNotFoundError\u001b[39m: No module named 'requests'"
     ]
    }
   ],
   "source": [
    "import requests\n",
    "from bs4 import BeautifulSoup\n",
    "\n",
    "if not has_internet():\n",
    "    raise RuntimeError(\"No internet connection detected. Please connect to the internet and re-run this cell.\")\n",
    "\n",
    "tesla_url = \"https://www.macrotrends.net/stocks/charts/TSLA/tesla/revenue\"\n",
    "headers = {\"User-Agent\": \"Mozilla/5.0\"}\n",
    "resp = requests.get(tesla_url, headers=headers, timeout=30)\n",
    "resp.raise_for_status()\n",
    "soup = BeautifulSoup(resp.text, 'html.parser')\n",
    "\n",
    "# Find the 'Tesla Quarterly Revenue' table by heading text proximity\n",
    "tables = soup.find_all(\"table\")\n",
    "target = None\n",
    "for t in tables:\n",
    "    if t.find(\"th\") and \"Quarterly Revenue\" in t.get_text():\n",
    "        target = t\n",
    "        break\n",
    "if target is None:\n",
    "    # fallback: look for series in script tag (Macrotrends often embeds in JS); simple fallback omitted for brevity\n",
    "    raise ValueError(\"Could not find Tesla Quarterly Revenue table. The page structure may have changed.\")\n",
    "\n",
    "rows = []\n",
    "for tr in target.find_all(\"tr\"):\n",
    "    cols = [c.get_text(strip=True) for c in tr.find_all([\"td\",\"th\"])]\n",
    "    if len(cols) >= 2 and re.match(r\"\\d{4}-\\d{2}\", cols[0]):\n",
    "        date = cols[0]\n",
    "        revenue = cols[1].replace(\"$\",\"\").replace(\",\",\"\")\n",
    "        try:\n",
    "            revenue = float(revenue)  # in millions USD typically\n",
    "        except:\n",
    "            continue\n",
    "        rows.append((date, revenue))\n",
    "\n",
    "tsla_revenue = pd.DataFrame(rows, columns=[\"Date\",\"Revenue (Millions USD)\"])\n",
    "tsla_revenue[\"Date\"] = pd.to_datetime(tsla_revenue[\"Date\"])\n",
    "tsla_revenue = tsla_revenue.sort_values(\"Date\").reset_index(drop=True)\n",
    "tsla_revenue.to_csv(\"TSLA_revenue.csv\", index=False)\n",
    "print(\"Extracted rows:\", len(tsla_revenue))\n",
    "tsla_revenue.tail(10)\n"
   ]
  },
  {
   "cell_type": "markdown",
   "metadata": {},
   "source": [
    "## Question 3 — Extracting GameStop Stock Data Using yfinance (2 pts)"
   ]
  },
  {
   "cell_type": "code",
   "execution_count": 6,
   "metadata": {},
   "outputs": [
    {
     "ename": "NameError",
     "evalue": "name 'safe_import_yfinance' is not defined",
     "output_type": "error",
     "traceback": [
      "\u001b[31m---------------------------------------------------------------------------\u001b[39m",
      "\u001b[31mNameError\u001b[39m                                 Traceback (most recent call last)",
      "\u001b[36mCell\u001b[39m\u001b[36m \u001b[39m\u001b[32mIn[6]\u001b[39m\u001b[32m, line 1\u001b[39m\n\u001b[32m----> \u001b[39m\u001b[32m1\u001b[39m yf = \u001b[43msafe_import_yfinance\u001b[49m()\n\u001b[32m      2\u001b[39m \u001b[38;5;28;01mif\u001b[39;00m \u001b[38;5;129;01mnot\u001b[39;00m has_internet():\n\u001b[32m      3\u001b[39m     \u001b[38;5;28;01mraise\u001b[39;00m \u001b[38;5;167;01mRuntimeError\u001b[39;00m(\u001b[33m\"\u001b[39m\u001b[33mNo internet connection detected. Please connect to the internet and re-run this cell.\u001b[39m\u001b[33m\"\u001b[39m)\n",
      "\u001b[31mNameError\u001b[39m: name 'safe_import_yfinance' is not defined"
     ]
    }
   ],
   "source": [
    "yf = safe_import_yfinance()\n",
    "if not has_internet():\n",
    "    raise RuntimeError(\"No internet connection detected. Please connect to the internet and re-run this cell.\")\n",
    "\n",
    "gme = yf.Ticker(\"GME\")\n",
    "gme_hist = gme.history(period=\"max\")\n",
    "gme_hist.reset_index(inplace=True)\n",
    "gme_hist = gme_hist[[\"Date\", \"Open\", \"High\", \"Low\", \"Close\", \"Volume\", \"Dividends\", \"Stock Splits\"]]\n",
    "gme_hist.rename(columns={\"Close\":\"Adj Close\"}, inplace=True)\n",
    "\n",
    "gme_hist.to_csv(\"GME_stock.csv\", index=False)\n",
    "print(\"Saved GME_stock.csv\")\n",
    "gme_hist.head(10)\n"
   ]
  },
  {
   "cell_type": "markdown",
   "metadata": {},
   "source": [
    "## Question 4 — Extracting GameStop Revenue Data Using Web Scraping (1 pt)"
   ]
  },
  {
   "cell_type": "code",
   "execution_count": 7,
   "metadata": {},
   "outputs": [
    {
     "ename": "ModuleNotFoundError",
     "evalue": "No module named 'requests'",
     "output_type": "error",
     "traceback": [
      "\u001b[31m---------------------------------------------------------------------------\u001b[39m",
      "\u001b[31mModuleNotFoundError\u001b[39m                       Traceback (most recent call last)",
      "\u001b[36mCell\u001b[39m\u001b[36m \u001b[39m\u001b[32mIn[7]\u001b[39m\u001b[32m, line 1\u001b[39m\n\u001b[32m----> \u001b[39m\u001b[32m1\u001b[39m \u001b[38;5;28;01mimport\u001b[39;00m\u001b[38;5;250m \u001b[39m\u001b[34;01mrequests\u001b[39;00m\n\u001b[32m      2\u001b[39m \u001b[38;5;28;01mfrom\u001b[39;00m\u001b[38;5;250m \u001b[39m\u001b[34;01mbs4\u001b[39;00m\u001b[38;5;250m \u001b[39m\u001b[38;5;28;01mimport\u001b[39;00m BeautifulSoup\n\u001b[32m      4\u001b[39m \u001b[38;5;28;01mif\u001b[39;00m \u001b[38;5;129;01mnot\u001b[39;00m has_internet():\n",
      "\u001b[31mModuleNotFoundError\u001b[39m: No module named 'requests'"
     ]
    }
   ],
   "source": [
    "import requests\n",
    "from bs4 import BeautifulSoup\n",
    "\n",
    "if not has_internet():\n",
    "    raise RuntimeError(\"No internet connection detected. Please connect to the internet and re-run this cell.\")\n",
    "\n",
    "gme_url = \"https://www.macrotrends.net/stocks/charts/GME/gamestop/revenue\"\n",
    "headers = {\"User-Agent\": \"Mozilla/5.0\"}\n",
    "resp = requests.get(gme_url, headers=headers, timeout=30)\n",
    "resp.raise_for_status()\n",
    "soup = BeautifulSoup(resp.text, 'html.parser')\n",
    "\n",
    "# Find the 'GameStop Quarterly Revenue' table\n",
    "tables = soup.find_all(\"table\")\n",
    "target = None\n",
    "for t in tables:\n",
    "    if t.find(\"th\") and \"Quarterly Revenue\" in t.get_text():\n",
    "        target = t\n",
    "        break\n",
    "if target is None:\n",
    "    raise ValueError(\"Could not find GameStop Quarterly Revenue table. The page structure may have changed.\")\n",
    "\n",
    "rows = []\n",
    "for tr in target.find_all(\"tr\"):\n",
    "    cols = [c.get_text(strip=True) for c in tr.find_all([\"td\",\"th\"])]\n",
    "    if len(cols) >= 2 and re.match(r\"\\d{4}-\\d{2}\", cols[0]):\n",
    "        date = cols[0]\n",
    "        revenue = cols[1].replace(\"$\",\"\").replace(\",\",\"\")\n",
    "        try:\n",
    "            revenue = float(revenue)\n",
    "        except:\n",
    "            continue\n",
    "        rows.append((date, revenue))\n",
    "\n",
    "gme_revenue = pd.DataFrame(rows, columns=[\"Date\",\"Revenue (Millions USD)\"])\n",
    "gme_revenue[\"Date\"] = pd.to_datetime(gme_revenue[\"Date\"])\n",
    "gme_revenue = gme_revenue.sort_values(\"Date\").reset_index(drop=True)\n",
    "gme_revenue.to_csv(\"GME_revenue.csv\", index=False)\n",
    "print(\"Extracted rows:\", len(gme_revenue))\n",
    "gme_revenue.tail(10)\n"
   ]
  },
  {
   "cell_type": "markdown",
   "metadata": {},
   "source": [
    "## Questions 5 & 6 — Dashboards (Price vs Revenue) (2 + 2 pts)"
   ]
  },
  {
   "cell_type": "code",
   "execution_count": 8,
   "metadata": {},
   "outputs": [
    {
     "name": "stdout",
     "output_type": "stream",
     "text": [
      "Functions loaded. Next cells will build the dashboards.\n"
     ]
    }
   ],
   "source": [
    "def make_price_revenue_dashboard(stock_csv, revenue_csv, title=\"Dashboard\"):\n",
    "    stock = pd.read_csv(stock_csv, parse_dates=[\"Date\"])\n",
    "    rev = pd.read_csv(revenue_csv, parse_dates=[\"Date\"])\n",
    "    # Use 'Adj Close' if present, else 'Close'\n",
    "    price_col = \"Adj Close\" if \"Adj Close\" in stock.columns else \"Close\"\n",
    "\n",
    "    # Resample stock prices to quarterly end to match revenue cadence\n",
    "    stock_q = stock.set_index(\"Date\").resample(\"Q\")[price_col].last().rename(\"Price\").to_frame().reset_index()\n",
    "    rev_q = rev.rename(columns={rev.columns[1]: \"Revenue\"}).copy()\n",
    "    # Some revenue series are already quarterly by date; ensure quarter end alignment\n",
    "    rev_q[\"Date\"] = rev_q[\"Date\"] + pd.offsets.QuarterEnd(0)\n",
    "\n",
    "    df = pd.merge_asof(stock_q.sort_values(\"Date\"), rev_q.sort_values(\"Date\"), on=\"Date\", direction=\"nearest\", tolerance=pd.Timedelta(\"45D\"))\n",
    "    df.dropna(inplace=True)\n",
    "\n",
    "    fig, ax1 = plt.subplots(figsize=(10,5))\n",
    "    ax1.plot(df[\"Date\"], df[\"Price\"], linewidth=2)\n",
    "    ax1.set_xlabel(\"Date\")\n",
    "    ax1.set_ylabel(\"Price (USD)\")\n",
    "    ax1.set_title(title)\n",
    "\n",
    "    ax2 = ax1.twinx()\n",
    "    ax2.plot(df[\"Date\"], df[\"Revenue\"], linewidth=2, linestyle=\"--\")\n",
    "    ax2.set_ylabel(\"Revenue (Millions USD)\")\n",
    "\n",
    "    plt.tight_layout()\n",
    "    plt.show()\n",
    "    return df\n",
    "\n",
    "print(\"Functions loaded. Next cells will build the dashboards.\")\n"
   ]
  },
  {
   "cell_type": "markdown",
   "metadata": {},
   "source": [
    "### Tesla — Stock vs Revenue Dashboard"
   ]
  },
  {
   "cell_type": "code",
   "execution_count": 9,
   "metadata": {},
   "outputs": [
    {
     "ename": "NameError",
     "evalue": "name 'pd' is not defined",
     "output_type": "error",
     "traceback": [
      "\u001b[31m---------------------------------------------------------------------------\u001b[39m",
      "\u001b[31mNameError\u001b[39m                                 Traceback (most recent call last)",
      "\u001b[36mCell\u001b[39m\u001b[36m \u001b[39m\u001b[32mIn[9]\u001b[39m\u001b[32m, line 1\u001b[39m\n\u001b[32m----> \u001b[39m\u001b[32m1\u001b[39m _ = \u001b[43mmake_price_revenue_dashboard\u001b[49m\u001b[43m(\u001b[49m\u001b[33;43m\"\u001b[39;49m\u001b[33;43mTSLA_stock.csv\u001b[39;49m\u001b[33;43m\"\u001b[39;49m\u001b[43m,\u001b[49m\u001b[43m \u001b[49m\u001b[33;43m\"\u001b[39;49m\u001b[33;43mTSLA_revenue.csv\u001b[39;49m\u001b[33;43m\"\u001b[39;49m\u001b[43m,\u001b[49m\u001b[43m \u001b[49m\u001b[43mtitle\u001b[49m\u001b[43m=\u001b[49m\u001b[33;43m\"\u001b[39;49m\u001b[33;43mTesla: Price vs Revenue\u001b[39;49m\u001b[33;43m\"\u001b[39;49m\u001b[43m)\u001b[49m\n",
      "\u001b[36mCell\u001b[39m\u001b[36m \u001b[39m\u001b[32mIn[8]\u001b[39m\u001b[32m, line 2\u001b[39m, in \u001b[36mmake_price_revenue_dashboard\u001b[39m\u001b[34m(stock_csv, revenue_csv, title)\u001b[39m\n\u001b[32m      1\u001b[39m \u001b[38;5;28;01mdef\u001b[39;00m\u001b[38;5;250m \u001b[39m\u001b[34mmake_price_revenue_dashboard\u001b[39m(stock_csv, revenue_csv, title=\u001b[33m\"\u001b[39m\u001b[33mDashboard\u001b[39m\u001b[33m\"\u001b[39m):\n\u001b[32m----> \u001b[39m\u001b[32m2\u001b[39m     stock = \u001b[43mpd\u001b[49m.read_csv(stock_csv, parse_dates=[\u001b[33m\"\u001b[39m\u001b[33mDate\u001b[39m\u001b[33m\"\u001b[39m])\n\u001b[32m      3\u001b[39m     rev = pd.read_csv(revenue_csv, parse_dates=[\u001b[33m\"\u001b[39m\u001b[33mDate\u001b[39m\u001b[33m\"\u001b[39m])\n\u001b[32m      4\u001b[39m     \u001b[38;5;66;03m# Use 'Adj Close' if present, else 'Close'\u001b[39;00m\n",
      "\u001b[31mNameError\u001b[39m: name 'pd' is not defined"
     ]
    }
   ],
   "source": [
    "_ = make_price_revenue_dashboard(\"TSLA_stock.csv\", \"TSLA_revenue.csv\", title=\"Tesla: Price vs Revenue\")\n"
   ]
  },
  {
   "cell_type": "markdown",
   "metadata": {},
   "source": [
    "### GameStop — Stock vs Revenue Dashboard"
   ]
  },
  {
   "cell_type": "code",
   "execution_count": 10,
   "metadata": {},
   "outputs": [
    {
     "ename": "NameError",
     "evalue": "name 'pd' is not defined",
     "output_type": "error",
     "traceback": [
      "\u001b[31m---------------------------------------------------------------------------\u001b[39m",
      "\u001b[31mNameError\u001b[39m                                 Traceback (most recent call last)",
      "\u001b[36mCell\u001b[39m\u001b[36m \u001b[39m\u001b[32mIn[10]\u001b[39m\u001b[32m, line 1\u001b[39m\n\u001b[32m----> \u001b[39m\u001b[32m1\u001b[39m _ = \u001b[43mmake_price_revenue_dashboard\u001b[49m\u001b[43m(\u001b[49m\u001b[33;43m\"\u001b[39;49m\u001b[33;43mGME_stock.csv\u001b[39;49m\u001b[33;43m\"\u001b[39;49m\u001b[43m,\u001b[49m\u001b[43m \u001b[49m\u001b[33;43m\"\u001b[39;49m\u001b[33;43mGME_revenue.csv\u001b[39;49m\u001b[33;43m\"\u001b[39;49m\u001b[43m,\u001b[49m\u001b[43m \u001b[49m\u001b[43mtitle\u001b[49m\u001b[43m=\u001b[49m\u001b[33;43m\"\u001b[39;49m\u001b[33;43mGameStop: Price vs Revenue\u001b[39;49m\u001b[33;43m\"\u001b[39;49m\u001b[43m)\u001b[49m\n",
      "\u001b[36mCell\u001b[39m\u001b[36m \u001b[39m\u001b[32mIn[8]\u001b[39m\u001b[32m, line 2\u001b[39m, in \u001b[36mmake_price_revenue_dashboard\u001b[39m\u001b[34m(stock_csv, revenue_csv, title)\u001b[39m\n\u001b[32m      1\u001b[39m \u001b[38;5;28;01mdef\u001b[39;00m\u001b[38;5;250m \u001b[39m\u001b[34mmake_price_revenue_dashboard\u001b[39m(stock_csv, revenue_csv, title=\u001b[33m\"\u001b[39m\u001b[33mDashboard\u001b[39m\u001b[33m\"\u001b[39m):\n\u001b[32m----> \u001b[39m\u001b[32m2\u001b[39m     stock = \u001b[43mpd\u001b[49m.read_csv(stock_csv, parse_dates=[\u001b[33m\"\u001b[39m\u001b[33mDate\u001b[39m\u001b[33m\"\u001b[39m])\n\u001b[32m      3\u001b[39m     rev = pd.read_csv(revenue_csv, parse_dates=[\u001b[33m\"\u001b[39m\u001b[33mDate\u001b[39m\u001b[33m\"\u001b[39m])\n\u001b[32m      4\u001b[39m     \u001b[38;5;66;03m# Use 'Adj Close' if present, else 'Close'\u001b[39;00m\n",
      "\u001b[31mNameError\u001b[39m: name 'pd' is not defined"
     ]
    }
   ],
   "source": [
    "_ = make_price_revenue_dashboard(\"GME_stock.csv\", \"GME_revenue.csv\", title=\"GameStop: Price vs Revenue\")\n"
   ]
  },
  {
   "cell_type": "markdown",
   "metadata": {},
   "source": [
    "## Question 7 — Sharing Your Assignment Notebook (2 pts)"
   ]
  },
  {
   "cell_type": "markdown",
   "metadata": {},
   "source": [
    "- Save this notebook after execution: **File → Save As…** and export as needed (HTML or PDF) for submission.\n",
    "- Include your screenshots for each question (head/tail previews and rendered dashboards).\n",
    "- Ensure your environment has internet access when running Questions 1–4.\n"
   ]
  },
  {
   "cell_type": "markdown",
   "id": "177aa850",
   "metadata": {},
   "source": []
  },
  {
   "cell_type": "markdown",
   "id": "40e9356a",
   "metadata": {},
   "source": []
  }
 ],
 "metadata": {
  "kernelspec": {
   "display_name": "Python 3",
   "language": "python",
   "name": "python3"
  },
  "language_info": {
   "codemirror_mode": {
    "name": "ipython",
    "version": 3
   },
   "file_extension": ".py",
   "mimetype": "text/x-python",
   "name": "python",
   "nbconvert_exporter": "python",
   "pygments_lexer": "ipython3",
   "version": "3.13.7"
  }
 },
 "nbformat": 4,
 "nbformat_minor": 5
}
