{
  "metadata": {
    "kernelspec": {
      "name": "python",
      "display_name": "Python (Pyodide)",
      "language": "python"
    },
    "language_info": {
      "codemirror_mode": {
        "name": "python",
        "version": 3
      },
      "file_extension": ".py",
      "mimetype": "text/x-python",
      "name": "python",
      "nbconvert_exporter": "python",
      "pygments_lexer": "ipython3",
      "version": "3.8"
    }
  },
  "nbformat_minor": 5,
  "nbformat": 4,
  "cells": [
    {
      "id": "f570bc0b-d6ec-4fb3-897c-c86d13667ecf",
      "cell_type": "code",
      "source": "# Question 1\n# It prints out Hello, World\nprint(\"Hello, World\")",
      "metadata": {
        "trusted": true
      },
      "outputs": [
        {
          "name": "stdout",
          "output_type": "stream",
          "text": "Hello, World\n"
        }
      ],
      "execution_count": 3
    },
    {
      "id": "adb8d536-53e4-42c8-9394-025c439753ad",
      "cell_type": "code",
      "source": "# Question 2\n\"\"\"\nThis line is to outprint the greeting\n\n\"\"\"\nprint(\"Hello, World\")",
      "metadata": {
        "trusted": true
      },
      "outputs": [
        {
          "name": "stdout",
          "output_type": "stream",
          "text": "Hello, World\n"
        }
      ],
      "execution_count": 4
    },
    {
      "id": "b25e0932-59a3-4495-bb3d-063cc5fe99d6",
      "cell_type": "raw",
      "source": "# Question 3\n\nname= \"khalid\"\nage=12\nlanguage=\"hausa\"\nprint(name)\nprint(age)\nprint(language)",
      "metadata": {}
    },
    {
      "id": "83728896-673d-472a-9b20-832d15a2ca78",
      "cell_type": "code",
      "source": "# Question 4\n# Camel case\nmyName=\"khalid\"\n# Pascal case\nMyName=\"Khalid Abdussamii\"\n#Snake case\nmy_name=\"khalid\"",
      "metadata": {
        "trusted": true
      },
      "outputs": [],
      "execution_count": 6
    },
    {
      "id": "cb2cf94a-c2a3-45e1-a144-4eb83d1fec45",
      "cell_type": "code",
      "source": "# Question 5\na,b,c= \"Kuwait\",\"Qatar\",\"Oman\"\nprint(a)\nprint(b)\nprint(c)",
      "metadata": {
        "trusted": true
      },
      "outputs": [
        {
          "name": "stdout",
          "output_type": "stream",
          "text": "Kuwait\nQatar\nOman\n"
        }
      ],
      "execution_count": 7
    },
    {
      "id": "a035ce50-ee40-4a06-96f7-d89e5fd3619a",
      "cell_type": "code",
      "source": "# Question 6\nint_num=13\nfloat_num=3.987\nstr_name=\"Khalid\"\nbool_IsMalaysiaGreat=True\nprint(int_num)\nprint(float_num)\nprint(str_name)\nprint(bool_IsMalaysiaGreat)",
      "metadata": {
        "trusted": true
      },
      "outputs": [
        {
          "name": "stdout",
          "output_type": "stream",
          "text": "13\n3.987\nKhalid\nTrue\n"
        }
      ],
      "execution_count": 8
    },
    {
      "id": "c9372e41-acb0-4cd7-b476-2de3e7f97bb7",
      "cell_type": "code",
      "source": "# Question 7\nint_num=5\na=float(int_num)\nfloat_num=8.987\nb=int(float_num)\nstr_number=78\nc=int(str_number)\nprint(a)\nprint(b)\nprint(c)",
      "metadata": {
        "trusted": true
      },
      "outputs": [
        {
          "name": "stdout",
          "output_type": "stream",
          "text": "5.0\n8\n78\n"
        }
      ],
      "execution_count": 9
    },
    {
      "id": "5bb326e4-e1cc-49de-b0c0-8f50129b30e0",
      "cell_type": "code",
      "source": "",
      "metadata": {
        "trusted": true
      },
      "outputs": [],
      "execution_count": null
    }
  ]
}